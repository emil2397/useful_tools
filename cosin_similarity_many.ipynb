{
  "cells": [
    {
      "cell_type": "code",
      "execution_count": null,
      "id": "f4660dbd",
      "metadata": {
        "id": "f4660dbd"
      },
      "outputs": [],
      "source": [
        "import warnings\n",
        "warnings.filterwarnings(\"ignore\")\n",
        "\n",
        "import pandas as pd\n",
        "import sqlite3\n",
        "import datetime\n"
      ]
    },
    {
      "cell_type": "code",
      "execution_count": null,
      "id": "37579df3",
      "metadata": {
        "id": "37579df3"
      },
      "outputs": [],
      "source": [
        "# import nltk\n",
        "# nltk.download('stopwords')"
      ]
    },
    {
      "cell_type": "code",
      "execution_count": null,
      "id": "3bf7244b",
      "metadata": {
        "id": "3bf7244b"
      },
      "outputs": [],
      "source": [
        "# nltk.download('punkt')"
      ]
    },
    {
      "cell_type": "code",
      "execution_count": null,
      "id": "b1eeb490",
      "metadata": {
        "id": "b1eeb490"
      },
      "outputs": [],
      "source": [
        "category_name = 'Спортивные костюмы мужские'"
      ]
    },
    {
      "cell_type": "code",
      "execution_count": null,
      "id": "1a627fb2",
      "metadata": {
        "id": "1a627fb2"
      },
      "outputs": [],
      "source": [
        "# min_price = 5000"
      ]
    },
    {
      "cell_type": "code",
      "execution_count": null,
      "id": "d54c7819",
      "metadata": {
        "id": "d54c7819"
      },
      "outputs": [],
      "source": [
        "DF = pd.read_sql(sql,connect)"
      ]
    },
    {
      "cell_type": "markdown",
      "id": "19921a34",
      "metadata": {
        "id": "19921a34"
      },
      "source": [
        "## bad comments selection"
      ]
    },
    {
      "cell_type": "code",
      "execution_count": null,
      "id": "b3748202",
      "metadata": {
        "id": "b3748202"
      },
      "outputs": [],
      "source": [
        "bad_items = DF[(DF[\"stars\"]<=3) | ((DF[\"disadvantage\"].apply(len)>=10) & (DF[\"stars\"]<4)) |  \n",
        "               ((DF[\"advantage\"].apply(len)<=1) & (DF[\"comment\"].apply(len)<=1) & DF[\"disadvantage\"].apply(len)>=2)]\n",
        "\n",
        "bad_items.loc[bad_items['disadvantage'].apply(len)<=5,'disadvantage']=bad_items['comment']\n",
        "\n",
        "bad_items=bad_items[bad_items['disadvantage'].apply(len)>=3]"
      ]
    },
    {
      "cell_type": "code",
      "execution_count": null,
      "id": "b22d1a73",
      "metadata": {
        "id": "b22d1a73"
      },
      "outputs": [],
      "source": [
        "from nltk.corpus import stopwords\n",
        "stop_words = set(stopwords.words('russian'))"
      ]
    },
    {
      "cell_type": "code",
      "execution_count": null,
      "id": "2170832b",
      "metadata": {
        "id": "2170832b"
      },
      "outputs": [],
      "source": [
        "# ! pip install -U spacy>=3.0"
      ]
    },
    {
      "cell_type": "code",
      "execution_count": null,
      "id": "468a1573",
      "metadata": {
        "scrolled": true,
        "id": "468a1573"
      },
      "outputs": [],
      "source": [
        "# ! python -m spacy download ru_core_news_md"
      ]
    },
    {
      "cell_type": "code",
      "execution_count": null,
      "id": "c70f4034",
      "metadata": {
        "id": "c70f4034"
      },
      "outputs": [],
      "source": [
        "import ru_core_news_md\n",
        "nlp = ru_core_news_md.load()"
      ]
    },
    {
      "cell_type": "code",
      "execution_count": null,
      "id": "4bce1f51",
      "metadata": {
        "id": "4bce1f51"
      },
      "outputs": [],
      "source": [
        "from nltk.tokenize import word_tokenize\n",
        "import re\n",
        "import string\n",
        "\n",
        "table = str.maketrans('', '', string.punctuation)\n",
        "\n",
        "def cleaner(text):\n",
        "    tokens = word_tokenize(text)\n",
        "    # convert to lower case\n",
        "    tokens = [w.lower() for w in tokens]\n",
        "    # remove punctuation from each word\n",
        "    stripped = [w.translate(table) for w in tokens]\n",
        "    # remove remaining tokens that are not alphabetic\n",
        "    words = [word for word in stripped if word.isalpha()]\n",
        "    # filter out stop words\n",
        "    words = [w for w in words if not w in stop_words]\n",
        "    \n",
        "    return words\n",
        "\n",
        "bad_items['disadvantage_raw']=bad_items['disadvantage'].copy()\n",
        "bad_items['disadvantage'] = bad_items['disadvantage'].apply(cleaner)\n",
        "bad_items['disadvantage'] = bad_items['disadvantage'].apply(lambda x: ' '.join(x))"
      ]
    },
    {
      "cell_type": "code",
      "execution_count": null,
      "id": "e68f2fb0",
      "metadata": {
        "id": "e68f2fb0"
      },
      "outputs": [],
      "source": [
        "# ! pip install numpy==1.17.4"
      ]
    },
    {
      "cell_type": "code",
      "execution_count": null,
      "id": "2d0dccde",
      "metadata": {
        "scrolled": true,
        "id": "2d0dccde"
      },
      "outputs": [],
      "source": [
        "# ! pip install pandas==0.25.3"
      ]
    },
    {
      "cell_type": "code",
      "execution_count": null,
      "id": "e9a60c0c",
      "metadata": {
        "id": "e9a60c0c"
      },
      "outputs": [],
      "source": [
        "import swifter"
      ]
    },
    {
      "cell_type": "code",
      "execution_count": null,
      "id": "60455348",
      "metadata": {
        "id": "60455348"
      },
      "outputs": [],
      "source": [
        "def nlp_format(x):\n",
        "    return  [w.lemma_.lower() for w in nlp(x)]"
      ]
    },
    {
      "cell_type": "code",
      "execution_count": null,
      "id": "81c16802",
      "metadata": {
        "scrolled": true,
        "colab": {
          "referenced_widgets": [
            "bd2d4382762e4306be0ccbbf96c1e76c"
          ]
        },
        "id": "81c16802",
        "outputId": "52236021-c708-45e7-f56c-078f75f61006"
      },
      "outputs": [
        {
          "data": {
            "application/vnd.jupyter.widget-view+json": {
              "model_id": "bd2d4382762e4306be0ccbbf96c1e76c",
              "version_major": 2,
              "version_minor": 0
            },
            "text/plain": [
              "Pandas Apply:   0%|          | 0/2391 [00:00<?, ?it/s]"
            ]
          },
          "metadata": {},
          "output_type": "display_data"
        }
      ],
      "source": [
        "bad_items['disadvantage_stem'] = bad_items['disadvantage'].swifter.apply(nlp_format,axis=1)"
      ]
    },
    {
      "cell_type": "code",
      "execution_count": null,
      "id": "101ff0ca",
      "metadata": {
        "id": "101ff0ca"
      },
      "outputs": [],
      "source": [
        "bad_items['disadvantage_stem'] = bad_items['disadvantage_stem'].apply(\\\n",
        "    lambda x: [word for word in x if re.search('[а-яА-Я]', word)])\n",
        "\n",
        "# bad_items['disadvantage_stem'] = bad_items['disadvantage_stem'].apply(lambda x: [word for word in x if not re.search('[0-9]', word)])\n",
        "bad_items['disadvantage_stem'] = bad_items['disadvantage_stem'].apply(lambda x: ' '.join(x))"
      ]
    },
    {
      "cell_type": "code",
      "execution_count": null,
      "id": "9d849bf7",
      "metadata": {
        "id": "9d849bf7"
      },
      "outputs": [],
      "source": [
        "import nltk, string\n",
        "from sklearn.feature_extraction.text import TfidfVectorizer\n",
        "\n",
        "vectorizer = TfidfVectorizer()\n",
        "\n",
        "def cosine_sim(text1, text2):\n",
        "    tfidf = vectorizer.fit_transform([text1, text2])\n",
        "    return ((tfidf * tfidf.T).A)[0,1]\n"
      ]
    },
    {
      "cell_type": "code",
      "execution_count": null,
      "id": "cdf87291",
      "metadata": {
        "id": "cdf87291"
      },
      "outputs": [],
      "source": [
        "bad_items=bad_items.sample(frac=1)"
      ]
    },
    {
      "cell_type": "code",
      "execution_count": null,
      "id": "a9c5dd88",
      "metadata": {
        "scrolled": true,
        "id": "a9c5dd88",
        "outputId": "b72d1748-72de-4b40-e4df-c8881ec48343"
      },
      "outputs": [
        {
          "name": "stdout",
          "output_type": "stream",
          "text": [
            "row: 0, left_count: 2391, pct_loss: 0\n",
            "row: 2, left_count: 2380, pct_loss: 0.0046\n",
            "row: 4, left_count: 2272, pct_loss: 0.0475\n",
            "row: 6, left_count: 2232, pct_loss: 0.0179\n",
            "row: 8, left_count: 2226, pct_loss: 0.0027\n",
            "row: 10, left_count: 2216, pct_loss: 0.0045\n",
            "row: 12, left_count: 2194, pct_loss: 0.01\n",
            "row: 14, left_count: 2188, pct_loss: 0.0027\n",
            "row: 16, left_count: 2177, pct_loss: 0.0051\n",
            "row: 20, left_count: 2167, pct_loss: 0.0046\n",
            "row: 22, left_count: 2156, pct_loss: 0.0051\n",
            "row: 24, left_count: 2153, pct_loss: 0.0014\n",
            "row: 26, left_count: 2124, pct_loss: 0.0137\n",
            "row: 28, left_count: 2117, pct_loss: 0.0033\n",
            "row: 32, left_count: 2114, pct_loss: 0.0014\n",
            "row: 34, left_count: 2098, pct_loss: 0.0076\n",
            "row: 36, left_count: 2065, pct_loss: 0.016\n",
            "row: 39, left_count: 2059, pct_loss: 0.0029\n",
            "row: 41, left_count: 1940, pct_loss: 0.0613\n",
            "row: 43, left_count: 1938, pct_loss: 0.001\n",
            "row: 45, left_count: 1932, pct_loss: 0.0031\n",
            "row: 48, left_count: 1924, pct_loss: 0.0042\n",
            "row: 51, left_count: 1920, pct_loss: 0.0021\n",
            "row: 53, left_count: 1914, pct_loss: 0.0031\n",
            "row: 56, left_count: 1882, pct_loss: 0.017\n",
            "row: 58, left_count: 1869, pct_loss: 0.007\n",
            "row: 60, left_count: 1849, pct_loss: 0.0108\n",
            "row: 64, left_count: 1846, pct_loss: 0.0016\n",
            "row: 66, left_count: 1842, pct_loss: 0.0022\n",
            "row: 68, left_count: 1836, pct_loss: 0.0033\n",
            "row: 70, left_count: 1825, pct_loss: 0.006\n",
            "row: 72, left_count: 1819, pct_loss: 0.0033\n",
            "row: 74, left_count: 1814, pct_loss: 0.0028\n",
            "row: 76, left_count: 1813, pct_loss: 0.0006\n",
            "row: 82, left_count: 1720, pct_loss: 0.0541\n",
            "row: 87, left_count: 1707, pct_loss: 0.0076\n",
            "row: 89, left_count: 1694, pct_loss: 0.0077\n",
            "row: 91, left_count: 1682, pct_loss: 0.0071\n",
            "row: 96, left_count: 1624, pct_loss: 0.0357\n",
            "row: 99, left_count: 1588, pct_loss: 0.0227\n",
            "row: 101, left_count: 1581, pct_loss: 0.0044\n",
            "row: 104, left_count: 1569, pct_loss: 0.0076\n",
            "row: 106, left_count: 1560, pct_loss: 0.0058\n",
            "row: 113, left_count: 1542, pct_loss: 0.0117\n",
            "row: 116, left_count: 1540, pct_loss: 0.0013\n",
            "row: 118, left_count: 1539, pct_loss: 0.0006\n",
            "row: 121, left_count: 1536, pct_loss: 0.002\n",
            "row: 129, left_count: 1516, pct_loss: 0.0132\n",
            "row: 132, left_count: 1451, pct_loss: 0.0448\n",
            "row: 135, left_count: 1449, pct_loss: 0.0014\n",
            "row: 139, left_count: 1444, pct_loss: 0.0035\n",
            "row: 141, left_count: 1427, pct_loss: 0.0119\n",
            "row: 143, left_count: 1420, pct_loss: 0.0049\n",
            "row: 145, left_count: 1413, pct_loss: 0.005\n",
            "row: 147, left_count: 1378, pct_loss: 0.0254\n",
            "row: 152, left_count: 1373, pct_loss: 0.0036\n",
            "row: 157, left_count: 1369, pct_loss: 0.0029\n",
            "row: 162, left_count: 1366, pct_loss: 0.0022\n",
            "row: 165, left_count: 1360, pct_loss: 0.0044\n",
            "row: 171, left_count: 1358, pct_loss: 0.0015\n",
            "row: 174, left_count: 1357, pct_loss: 0.0007\n",
            "row: 177, left_count: 1351, pct_loss: 0.0044\n",
            "row: 186, left_count: 1339, pct_loss: 0.009\n",
            "row: 203, left_count: 1313, pct_loss: 0.0198\n",
            "row: 207, left_count: 1309, pct_loss: 0.0031\n",
            "row: 214, left_count: 1303, pct_loss: 0.0046\n",
            "row: 216, left_count: 1290, pct_loss: 0.0101\n",
            "row: 220, left_count: 1277, pct_loss: 0.0102\n",
            "row: 224, left_count: 1267, pct_loss: 0.0079\n",
            "row: 227, left_count: 1262, pct_loss: 0.004\n",
            "row: 229, left_count: 1259, pct_loss: 0.0024\n",
            "row: 231, left_count: 1253, pct_loss: 0.0048\n",
            "row: 233, left_count: 1247, pct_loss: 0.0048\n",
            "row: 237, left_count: 1239, pct_loss: 0.0065\n",
            "row: 242, left_count: 1228, pct_loss: 0.009\n",
            "row: 247, left_count: 1219, pct_loss: 0.0074\n",
            "row: 249, left_count: 1214, pct_loss: 0.0041\n",
            "row: 258, left_count: 1180, pct_loss: 0.0288\n",
            "row: 262, left_count: 1177, pct_loss: 0.0025\n",
            "row: 265, left_count: 1171, pct_loss: 0.0051\n",
            "row: 273, left_count: 1159, pct_loss: 0.0104\n",
            "row: 276, left_count: 1154, pct_loss: 0.0043\n",
            "row: 280, left_count: 1150, pct_loss: 0.0035\n",
            "row: 286, left_count: 1148, pct_loss: 0.0017\n",
            "row: 289, left_count: 1145, pct_loss: 0.0026\n",
            "row: 291, left_count: 1140, pct_loss: 0.0044\n",
            "row: 295, left_count: 1131, pct_loss: 0.008\n",
            "row: 301, left_count: 1118, pct_loss: 0.0116\n",
            "row: 308, left_count: 1114, pct_loss: 0.0036\n",
            "row: 312, left_count: 1109, pct_loss: 0.0045\n",
            "row: 319, left_count: 1098, pct_loss: 0.01\n",
            "row: 324, left_count: 1096, pct_loss: 0.0018\n",
            "row: 331, left_count: 1089, pct_loss: 0.0064\n",
            "row: 343, left_count: 1067, pct_loss: 0.0206\n",
            "row: 347, left_count: 1065, pct_loss: 0.0019\n",
            "row: 352, left_count: 1064, pct_loss: 0.0009\n",
            "row: 359, left_count: 1057, pct_loss: 0.0066\n",
            "row: 363, left_count: 1056, pct_loss: 0.0009\n",
            "row: 371, left_count: 1047, pct_loss: 0.0086\n",
            "row: 377, left_count: 1035, pct_loss: 0.0116\n",
            "row: 384, left_count: 1022, pct_loss: 0.0127\n",
            "row: 388, left_count: 1014, pct_loss: 0.0079\n",
            "row: 398, left_count: 995, pct_loss: 0.0191\n",
            "row: 405, left_count: 982, pct_loss: 0.0132\n",
            "row: 411, left_count: 980, pct_loss: 0.002\n",
            "row: 415, left_count: 978, pct_loss: 0.002\n",
            "row: 423, left_count: 970, pct_loss: 0.0082\n",
            "row: 428, left_count: 963, pct_loss: 0.0073\n",
            "row: 430, left_count: 961, pct_loss: 0.0021\n",
            "row: 446, left_count: 956, pct_loss: 0.0052\n",
            "row: 452, left_count: 949, pct_loss: 0.0074\n",
            "row: 459, left_count: 943, pct_loss: 0.0064\n",
            "row: 469, left_count: 936, pct_loss: 0.0075\n",
            "row: 472, left_count: 935, pct_loss: 0.0011\n",
            "row: 474, left_count: 933, pct_loss: 0.0021\n",
            "row: 482, left_count: 910, pct_loss: 0.0253\n",
            "row: 489, left_count: 906, pct_loss: 0.0044\n",
            "row: 493, left_count: 903, pct_loss: 0.0033\n",
            "row: 502, left_count: 896, pct_loss: 0.0078\n",
            "row: 511, left_count: 893, pct_loss: 0.0034\n",
            "row: 530, left_count: 883, pct_loss: 0.0113\n",
            "row: 538, left_count: 881, pct_loss: 0.0023\n",
            "row: 542, left_count: 879, pct_loss: 0.0023\n",
            "row: 544, left_count: 875, pct_loss: 0.0046\n",
            "row: 550, left_count: 871, pct_loss: 0.0046\n",
            "row: 562, left_count: 865, pct_loss: 0.0069\n",
            "row: 567, left_count: 864, pct_loss: 0.0012\n",
            "row: 570, left_count: 863, pct_loss: 0.0012\n",
            "row: 579, left_count: 856, pct_loss: 0.0082\n",
            "row: 583, left_count: 847, pct_loss: 0.0106\n",
            "row: 589, left_count: 839, pct_loss: 0.0095\n",
            "row: 608, left_count: 820, pct_loss: 0.0232\n",
            "row: 616, left_count: 819, pct_loss: 0.0012\n",
            "row: 621, left_count: 812, pct_loss: 0.0086\n",
            "row: 630, left_count: 807, pct_loss: 0.0062\n",
            "row: 647, left_count: 801, pct_loss: 0.0075\n",
            "row: 651, left_count: 796, pct_loss: 0.0063\n",
            "row: 657, left_count: 795, pct_loss: 0.0013\n",
            "row: 663, left_count: 788, pct_loss: 0.0089\n",
            "row: 671, left_count: 777, pct_loss: 0.0142\n",
            "row: 674, left_count: 775, pct_loss: 0.0026\n",
            "row: 685, left_count: 774, pct_loss: 0.0013\n",
            "row: 710, left_count: 761, pct_loss: 0.0171\n",
            "row: 715, left_count: 747, pct_loss: 0.0187\n",
            "row: 717, left_count: 743, pct_loss: 0.0054\n",
            "row: 733, left_count: 737, pct_loss: 0.0081\n",
            "row: 736, left_count: 735, pct_loss: 0.0027\n",
            "row: 746, left_count: 726, pct_loss: 0.0124\n",
            "row: 754, left_count: 722, pct_loss: 0.0055\n",
            "row: 764, left_count: 721, pct_loss: 0.0014\n"
          ]
        }
      ],
      "source": [
        "from tqdm import tqdm\n",
        "import random\n",
        "\n",
        "rows_raw={}\n",
        "rows_corpus={}\n",
        "total=bad_items.shape[0]\n",
        "\n",
        "all_rows = list(range(bad_items.shape[0]))\n",
        "\n",
        "vals_development =[1]*round(total*0.1) + [0]\n",
        "critical_len=round(total*0.05)\n",
        "\n",
        "i1_len=0\n",
        "for i1 in all_rows:\n",
        "    \n",
        "    i1_len+=1\n",
        "    \n",
        "    i1_stem=bad_items.iloc[i1]['disadvantage_stem']\n",
        "    rows_raw[i1]=[]\n",
        "    rows_raw[i1].append((2,bad_items.iloc[i1]['disadvantage_raw']))\n",
        "    rows_corpus[i1]=i1_stem.split()\n",
        "    \n",
        "    print(f\"row: {i1}, left_count: {len(all_rows)}, pct_loss: {round(vals_development[-1],4)}\")\n",
        "    \n",
        "    initial_row_count = len(all_rows)\n",
        "    \n",
        "    for j in all_rows:\n",
        "        j_stem=bad_items.iloc[j]['disadvantage_stem']\n",
        "        \n",
        "        c=cosine_sim(i1_stem,j_stem)\n",
        "        \n",
        "        if c>0.25:\n",
        "            all_rows.remove(j)\n",
        "            rows_raw[i1].append((round(c,3),bad_items.iloc[j]['disadvantage_raw']))\n",
        "            rows_corpus[i1]+=j_stem.split()\n",
        "    \n",
        "    rows_corpus[i1] = list(set(rows_corpus[i1]))\n",
        "    final_row_count = len(all_rows)\n",
        "    vals_development+=[(initial_row_count/final_row_count)-1]\n",
        "    \n",
        "            \n",
        "    if len(all_rows)<total*0.3 or max(vals_development[-critical_len:])<0.05 or i1_len/final_row_count>=0.6:\n",
        "        break\n"
      ]
    },
    {
      "cell_type": "code",
      "execution_count": null,
      "id": "e09e263f",
      "metadata": {
        "id": "e09e263f",
        "outputId": "0b6199ff-3a35-4181-bcc3-5cbed188e262"
      },
      "outputs": [
        {
          "data": {
            "text/html": [
              "<div>\n",
              "<style scoped>\n",
              "    .dataframe tbody tr th:only-of-type {\n",
              "        vertical-align: middle;\n",
              "    }\n",
              "\n",
              "    .dataframe tbody tr th {\n",
              "        vertical-align: top;\n",
              "    }\n",
              "\n",
              "    .dataframe thead th {\n",
              "        text-align: right;\n",
              "    }\n",
              "</style>\n",
              "<table border=\"1\" class=\"dataframe\">\n",
              "  <thead>\n",
              "    <tr style=\"text-align: right;\">\n",
              "      <th></th>\n",
              "      <th>id</th>\n",
              "      <th>raw_text</th>\n",
              "    </tr>\n",
              "  </thead>\n",
              "  <tbody>\n",
              "    <tr>\n",
              "      <th>0</th>\n",
              "      <td>39</td>\n",
              "      <td>[Ни размер, ни цвет не совпадают с действитель...</td>\n",
              "    </tr>\n",
              "    <tr>\n",
              "      <th>1</th>\n",
              "      <td>2</td>\n",
              "      <td>[качество так себе, Качество так себе, Ткань о...</td>\n",
              "    </tr>\n",
              "    <tr>\n",
              "      <th>2</th>\n",
              "      <td>129</td>\n",
              "      <td>[голимая синтетика, да нще и маломерит на разм...</td>\n",
              "    </tr>\n",
              "    <tr>\n",
              "      <th>3</th>\n",
              "      <td>76</td>\n",
              "      <td>[Не очень качественно сшит, начес очень линяет...</td>\n",
              "    </tr>\n",
              "    <tr>\n",
              "      <th>4</th>\n",
              "      <td>91</td>\n",
              "      <td>[Где штаны?!, штаны длиннее заявленных, Маломе...</td>\n",
              "    </tr>\n",
              "    <tr>\n",
              "      <th>...</th>\n",
              "      <td>...</td>\n",
              "      <td>...</td>\n",
              "    </tr>\n",
              "    <tr>\n",
              "      <th>145</th>\n",
              "      <td>28</td>\n",
              "      <td>[Внутри костюма подкладка вся скатывается.Это ...</td>\n",
              "    </tr>\n",
              "    <tr>\n",
              "      <th>146</th>\n",
              "      <td>22</td>\n",
              "      <td>[Брала мужу, подойдёт на высокого мужчину, на ...</td>\n",
              "    </tr>\n",
              "    <tr>\n",
              "      <th>147</th>\n",
              "      <td>12</td>\n",
              "      <td>[Ширпотреб! Тёплый - зто да! В остальном каках...</td>\n",
              "    </tr>\n",
              "    <tr>\n",
              "      <th>148</th>\n",
              "      <td>6</td>\n",
              "      <td>[прислали не ту модель( с надписью и на капюшо...</td>\n",
              "    </tr>\n",
              "    <tr>\n",
              "      <th>149</th>\n",
              "      <td>0</td>\n",
              "      <td>[Сделал уже 5 стирок , а флис всё линяет и лин...</td>\n",
              "    </tr>\n",
              "  </tbody>\n",
              "</table>\n",
              "<p>150 rows × 2 columns</p>\n",
              "</div>"
            ],
            "text/plain": [
              "      id                                           raw_text\n",
              "0     39  [Ни размер, ни цвет не совпадают с действитель...\n",
              "1      2  [качество так себе, Качество так себе, Ткань о...\n",
              "2    129  [голимая синтетика, да нще и маломерит на разм...\n",
              "3     76  [Не очень качественно сшит, начес очень линяет...\n",
              "4     91  [Где штаны?!, штаны длиннее заявленных, Маломе...\n",
              "..   ...                                                ...\n",
              "145   28  [Внутри костюма подкладка вся скатывается.Это ...\n",
              "146   22  [Брала мужу, подойдёт на высокого мужчину, на ...\n",
              "147   12  [Ширпотреб! Тёплый - зто да! В остальном каках...\n",
              "148    6  [прислали не ту модель( с надписью и на капюшо...\n",
              "149    0  [Сделал уже 5 стирок , а флис всё линяет и лин...\n",
              "\n",
              "[150 rows x 2 columns]"
            ]
          },
          "execution_count": 98,
          "metadata": {},
          "output_type": "execute_result"
        }
      ],
      "source": [
        "# raw text\n",
        "rows_sorted = dict(sorted(rows_raw.items(), key=lambda x: x[0]) )\n",
        "rows_groups = {key_: list(set([x[1] for x in rows_sorted[key_]])) for key_ in rows_sorted.keys()}\n",
        "rows_groups = sorted(rows_groups.items(), key=lambda kv: (len(kv[1]), kv[0]), reverse=True)\n",
        "com_groups_raw=pd.DataFrame(rows_groups).reset_index(drop=True).rename(columns={0:\"id\",1:\"raw_text\"})[[\"id\",\"raw_text\"]]\n",
        "com_groups_raw"
      ]
    },
    {
      "cell_type": "code",
      "execution_count": null,
      "id": "23f655a3",
      "metadata": {
        "scrolled": true,
        "id": "23f655a3",
        "outputId": "45b3f66a-8a28-463e-aa63-6ad010f5d7f6"
      },
      "outputs": [
        {
          "data": {
            "text/html": [
              "<div>\n",
              "<style scoped>\n",
              "    .dataframe tbody tr th:only-of-type {\n",
              "        vertical-align: middle;\n",
              "    }\n",
              "\n",
              "    .dataframe tbody tr th {\n",
              "        vertical-align: top;\n",
              "    }\n",
              "\n",
              "    .dataframe thead th {\n",
              "        text-align: right;\n",
              "    }\n",
              "</style>\n",
              "<table border=\"1\" class=\"dataframe\">\n",
              "  <thead>\n",
              "    <tr style=\"text-align: right;\">\n",
              "      <th></th>\n",
              "      <th>id</th>\n",
              "      <th>corpus</th>\n",
              "    </tr>\n",
              "  </thead>\n",
              "  <tbody>\n",
              "    <tr>\n",
              "      <th>0</th>\n",
              "      <td>39</td>\n",
              "      <td>[заказывать, маленький, качественный, верх, по...</td>\n",
              "    </tr>\n",
              "    <tr>\n",
              "      <th>1</th>\n",
              "      <td>76</td>\n",
              "      <td>[спереди, широкий, куртка, троечку, использова...</td>\n",
              "    </tr>\n",
              "    <tr>\n",
              "      <th>2</th>\n",
              "      <td>129</td>\n",
              "      <td>[куртка, широкий, впритык, изображение, верх, ...</td>\n",
              "    </tr>\n",
              "    <tr>\n",
              "      <th>3</th>\n",
              "      <td>249</td>\n",
              "      <td>[комплект, жилет, вещь, тянуть, заявить, отвра...</td>\n",
              "    </tr>\n",
              "    <tr>\n",
              "      <th>4</th>\n",
              "      <td>295</td>\n",
              "      <td>[таблица, широкий, вернуть, нормально, сюда, о...</td>\n",
              "    </tr>\n",
              "    <tr>\n",
              "      <th>...</th>\n",
              "      <td>...</td>\n",
              "      <td>...</td>\n",
              "    </tr>\n",
              "    <tr>\n",
              "      <th>145</th>\n",
              "      <td>171</td>\n",
              "      <td>[брак, прийти]</td>\n",
              "    </tr>\n",
              "    <tr>\n",
              "      <th>146</th>\n",
              "      <td>141</td>\n",
              "      <td>[липнуть, нем]</td>\n",
              "    </tr>\n",
              "    <tr>\n",
              "      <th>147</th>\n",
              "      <td>359</td>\n",
              "      <td>[одноразовый]</td>\n",
              "    </tr>\n",
              "    <tr>\n",
              "      <th>148</th>\n",
              "      <td>99</td>\n",
              "      <td>[тонковот]</td>\n",
              "    </tr>\n",
              "    <tr>\n",
              "      <th>149</th>\n",
              "      <td>74</td>\n",
              "      <td>[недокомплект]</td>\n",
              "    </tr>\n",
              "  </tbody>\n",
              "</table>\n",
              "<p>150 rows × 2 columns</p>\n",
              "</div>"
            ],
            "text/plain": [
              "      id                                             corpus\n",
              "0     39  [заказывать, маленький, качественный, верх, по...\n",
              "1     76  [спереди, широкий, куртка, троечку, использова...\n",
              "2    129  [куртка, широкий, впритык, изображение, верх, ...\n",
              "3    249  [комплект, жилет, вещь, тянуть, заявить, отвра...\n",
              "4    295  [таблица, широкий, вернуть, нормально, сюда, о...\n",
              "..   ...                                                ...\n",
              "145  171                                     [брак, прийти]\n",
              "146  141                                     [липнуть, нем]\n",
              "147  359                                      [одноразовый]\n",
              "148   99                                         [тонковот]\n",
              "149   74                                     [недокомплект]\n",
              "\n",
              "[150 rows x 2 columns]"
            ]
          },
          "execution_count": 99,
          "metadata": {},
          "output_type": "execute_result"
        }
      ],
      "source": [
        "# corpus\n",
        "rows_sorted = dict(sorted(rows_corpus.items(), key=lambda x: x[0]) )\n",
        "rows_groups = sorted(rows_sorted.items(), key=lambda kv: (len(kv[1]), kv[0]), reverse=True)\n",
        "com_groups_corpus=pd.DataFrame(rows_groups).reset_index(drop=True).rename(columns={0:\"id\",1:\"corpus\"})[[\"id\",\"corpus\"]]\n",
        "com_groups_corpus"
      ]
    },
    {
      "cell_type": "code",
      "execution_count": null,
      "id": "8a9766a4",
      "metadata": {
        "id": "8a9766a4"
      },
      "outputs": [],
      "source": [
        "result = com_groups_raw.merge(com_groups_corpus,how='left',on=\"id\")\n",
        "result = result[result[\"raw_text\"].apply(len)>5]"
      ]
    },
    {
      "cell_type": "code",
      "execution_count": null,
      "id": "236a10c7",
      "metadata": {
        "id": "236a10c7"
      },
      "outputs": [],
      "source": [
        "result[\"raw_text\"]=result[\"raw_text\"].apply(lambda x: [str(w).lower() for w in x])\n",
        "result[\"raw_text\"] =result[\"raw_text\"].apply(set)\n",
        "result[\"raw_text\"] =result[\"raw_text\"].apply(list)s"
      ]
    },
    {
      "cell_type": "code",
      "execution_count": null,
      "id": "dc2eca7f",
      "metadata": {
        "id": "dc2eca7f",
        "outputId": "1b60ad23-7d6b-4ac5-93ec-2eb89922a0f2"
      },
      "outputs": [
        {
          "data": {
            "text/plain": [
              "['спереди',\n",
              " 'широкий',\n",
              " 'куртка',\n",
              " 'троечку',\n",
              " 'использовать',\n",
              " 'вместо',\n",
              " 'само',\n",
              " 'красится',\n",
              " 'фото',\n",
              " 'соответствую',\n",
              " 'человек',\n",
              " 'одежда',\n",
              " 'очень',\n",
              " 'нитка',\n",
              " 'заказывала',\n",
              " 'длинный',\n",
              " 'полотно',\n",
              " 'хаки',\n",
              " 'растягиваться',\n",
              " 'сшить',\n",
              " 'цвет',\n",
              " 'блёклый',\n",
              " 'тонкий',\n",
              " 'хороший',\n",
              " 'соответствовать',\n",
              " 'сзади',\n",
              " 'тёмный',\n",
              " 'плотный',\n",
              " 'тяжёлый',\n",
              " 'штаны',\n",
              " 'прийти',\n",
              " 'толстовка',\n",
              " 'зад',\n",
              " 'капюшон',\n",
              " 'подклад',\n",
              " 'натяжка',\n",
              " 'весь',\n",
              " 'костюм',\n",
              " 'лезть',\n",
              " 'швв',\n",
              " 'материал',\n",
              " 'ворсинка',\n",
              " 'большой',\n",
              " 'отличаться',\n",
              " 'заказать',\n",
              " 'размера',\n",
              " 'разный',\n",
              " 'сильно',\n",
              " 'тот',\n",
              " 'тёплый',\n",
              " 'начёс',\n",
              " 'ровный',\n",
              " 'линять',\n",
              " 'изумруд',\n",
              " 'качество',\n",
              " 'качественно',\n",
              " 'мятый',\n",
              " 'рюкзак',\n",
              " 'торчать',\n",
              " 'размер',\n",
              " 'ткань',\n",
              " 'стирка',\n",
              " 'карман',\n",
              " 'штанах']"
            ]
          },
          "execution_count": 126,
          "metadata": {},
          "output_type": "execute_result"
        }
      ],
      "source": [
        "result.loc[3][\"corpus\"]"
      ]
    },
    {
      "cell_type": "code",
      "execution_count": null,
      "id": "dc0ce1b1",
      "metadata": {
        "id": "dc0ce1b1",
        "outputId": "90d657e0-d523-436b-e2be-393fb346100e"
      },
      "outputs": [
        {
          "data": {
            "text/html": [
              "<div>\n",
              "<style scoped>\n",
              "    .dataframe tbody tr th:only-of-type {\n",
              "        vertical-align: middle;\n",
              "    }\n",
              "\n",
              "    .dataframe tbody tr th {\n",
              "        vertical-align: top;\n",
              "    }\n",
              "\n",
              "    .dataframe thead th {\n",
              "        text-align: right;\n",
              "    }\n",
              "</style>\n",
              "<table border=\"1\" class=\"dataframe\">\n",
              "  <thead>\n",
              "    <tr style=\"text-align: right;\">\n",
              "      <th></th>\n",
              "      <th>id</th>\n",
              "      <th>raw_text</th>\n",
              "      <th>corpus</th>\n",
              "    </tr>\n",
              "  </thead>\n",
              "  <tbody>\n",
              "    <tr>\n",
              "      <th>0</th>\n",
              "      <td>39</td>\n",
              "      <td>кофта очень сильно маломерит! не понимаю зачем...</td>\n",
              "      <td>[заказывать, маленький, качественный, верх, по...</td>\n",
              "    </tr>\n",
              "    <tr>\n",
              "      <th>0</th>\n",
              "      <td>39</td>\n",
              "      <td>не соответствует размеру. на 50 размер взяла 5...</td>\n",
              "      <td>[заказывать, маленький, качественный, верх, по...</td>\n",
              "    </tr>\n",
              "    <tr>\n",
              "      <th>0</th>\n",
              "      <td>39</td>\n",
              "      <td>размер маловат</td>\n",
              "      <td>[заказывать, маленький, качественный, верх, по...</td>\n",
              "    </tr>\n",
              "    <tr>\n",
              "      <th>0</th>\n",
              "      <td>39</td>\n",
              "      <td>материал и размер</td>\n",
              "      <td>[заказывать, маленький, качественный, верх, по...</td>\n",
              "    </tr>\n",
              "    <tr>\n",
              "      <th>0</th>\n",
              "      <td>39</td>\n",
              "      <td>несоответствие размеру</td>\n",
              "      <td>[заказывать, маленький, качественный, верх, по...</td>\n",
              "    </tr>\n",
              "    <tr>\n",
              "      <th>...</th>\n",
              "      <td>...</td>\n",
              "      <td>...</td>\n",
              "      <td>...</td>\n",
              "    </tr>\n",
              "    <tr>\n",
              "      <th>12</th>\n",
              "      <td>8</td>\n",
              "      <td>тонкий</td>\n",
              "      <td>[дорого, тонкий, зацепка, мяться, материал, ле...</td>\n",
              "    </tr>\n",
              "    <tr>\n",
              "      <th>12</th>\n",
              "      <td>8</td>\n",
              "      <td>дорого, очень тонкий материал, мнётся!</td>\n",
              "      <td>[дорого, тонкий, зацепка, мяться, материал, ле...</td>\n",
              "    </tr>\n",
              "    <tr>\n",
              "      <th>12</th>\n",
              "      <td>8</td>\n",
              "      <td>очень тонкий материал.</td>\n",
              "      <td>[дорого, тонкий, зацепка, мяться, материал, ле...</td>\n",
              "    </tr>\n",
              "    <tr>\n",
              "      <th>12</th>\n",
              "      <td>8</td>\n",
              "      <td>материал тонкий, легко поставить зацепки</td>\n",
              "      <td>[дорого, тонкий, зацепка, мяться, материал, ле...</td>\n",
              "    </tr>\n",
              "    <tr>\n",
              "      <th>12</th>\n",
              "      <td>8</td>\n",
              "      <td>очень тонкий материал</td>\n",
              "      <td>[дорого, тонкий, зацепка, мяться, материал, ле...</td>\n",
              "    </tr>\n",
              "  </tbody>\n",
              "</table>\n",
              "<p>167 rows × 3 columns</p>\n",
              "</div>"
            ],
            "text/plain": [
              "    id                                           raw_text  \\\n",
              "0   39  кофта очень сильно маломерит! не понимаю зачем...   \n",
              "0   39  не соответствует размеру. на 50 размер взяла 5...   \n",
              "0   39                                     размер маловат   \n",
              "0   39                                  материал и размер   \n",
              "0   39                             несоответствие размеру   \n",
              "..  ..                                                ...   \n",
              "12   8                                             тонкий   \n",
              "12   8             дорого, очень тонкий материал, мнётся!   \n",
              "12   8                             очень тонкий материал.   \n",
              "12   8           материал тонкий, легко поставить зацепки   \n",
              "12   8                              очень тонкий материал   \n",
              "\n",
              "                                               corpus  \n",
              "0   [заказывать, маленький, качественный, верх, по...  \n",
              "0   [заказывать, маленький, качественный, верх, по...  \n",
              "0   [заказывать, маленький, качественный, верх, по...  \n",
              "0   [заказывать, маленький, качественный, верх, по...  \n",
              "0   [заказывать, маленький, качественный, верх, по...  \n",
              "..                                                ...  \n",
              "12  [дорого, тонкий, зацепка, мяться, материал, ле...  \n",
              "12  [дорого, тонкий, зацепка, мяться, материал, ле...  \n",
              "12  [дорого, тонкий, зацепка, мяться, материал, ле...  \n",
              "12  [дорого, тонкий, зацепка, мяться, материал, ле...  \n",
              "12  [дорого, тонкий, зацепка, мяться, материал, ле...  \n",
              "\n",
              "[167 rows x 3 columns]"
            ]
          },
          "execution_count": 106,
          "metadata": {},
          "output_type": "execute_result"
        }
      ],
      "source": [
        "result.explode('raw_text')"
      ]
    },
    {
      "cell_type": "code",
      "execution_count": null,
      "id": "cfb64b1d",
      "metadata": {
        "id": "cfb64b1d"
      },
      "outputs": [],
      "source": [
        "result.to_csv(\"comment_group.csv\")"
      ]
    },
    {
      "cell_type": "code",
      "execution_count": null,
      "id": "a2c207a0",
      "metadata": {
        "id": "a2c207a0"
      },
      "outputs": [],
      "source": [
        "result.explode('raw_text').to_csv(\"comment_group_expl.csv\")"
      ]
    },
    {
      "cell_type": "code",
      "execution_count": null,
      "id": "de9f95bc",
      "metadata": {
        "id": "de9f95bc"
      },
      "outputs": [],
      "source": [
        ""
      ]
    }
  ],
  "metadata": {
    "kernelspec": {
      "display_name": "Python 3",
      "language": "python",
      "name": "python3"
    },
    "language_info": {
      "codemirror_mode": {
        "name": "ipython",
        "version": 3
      },
      "file_extension": ".py",
      "mimetype": "text/x-python",
      "name": "python",
      "nbconvert_exporter": "python",
      "pygments_lexer": "ipython3",
      "version": "3.8.8"
    },
    "colab": {
      "name": "cosin_similarity_many.ipynb",
      "provenance": []
    }
  },
  "nbformat": 4,
  "nbformat_minor": 5
}